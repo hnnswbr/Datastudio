{
 "cells": [
  {
   "cell_type": "code",
   "execution_count": 1,
   "metadata": {},
   "outputs": [],
   "source": [
    "import requests\n",
    "import pandas as pd\n",
    "import time \n",
    "import datetime"
   ]
  },
  {
   "cell_type": "code",
   "execution_count": 2,
   "metadata": {},
   "outputs": [],
   "source": [
    "url = \"http://www.gemeinderat-zuerich.ch/api/Mitglieder/\"\n",
    "response = requests.get(url)\n",
    "data = response.json()\n"
   ]
  },
  {
   "cell_type": "code",
   "execution_count": 3,
   "metadata": {},
   "outputs": [
    {
     "data": {
      "text/html": [
       "<div>\n",
       "<style scoped>\n",
       "    .dataframe tbody tr th:only-of-type {\n",
       "        vertical-align: middle;\n",
       "    }\n",
       "\n",
       "    .dataframe tbody tr th {\n",
       "        vertical-align: top;\n",
       "    }\n",
       "\n",
       "    .dataframe thead th {\n",
       "        text-align: right;\n",
       "    }\n",
       "</style>\n",
       "<table border=\"1\" class=\"dataframe\">\n",
       "  <thead>\n",
       "    <tr style=\"text-align: right;\">\n",
       "      <th></th>\n",
       "      <th>Id</th>\n",
       "      <th>Name</th>\n",
       "      <th>Vorname</th>\n",
       "      <th>Titel</th>\n",
       "      <th>Partei</th>\n",
       "      <th>Wahlkreis</th>\n",
       "      <th>WahlkreisOrderBy</th>\n",
       "    </tr>\n",
       "  </thead>\n",
       "  <tbody>\n",
       "    <tr>\n",
       "      <th>0</th>\n",
       "      <td>afb2e0bc-b941-4fa4-8936-9b4978fc1ee1</td>\n",
       "      <td>Akyol</td>\n",
       "      <td>Ezgi</td>\n",
       "      <td>None</td>\n",
       "      <td>AL</td>\n",
       "      <td>4 und 5</td>\n",
       "      <td>102</td>\n",
       "    </tr>\n",
       "    <tr>\n",
       "      <th>1</th>\n",
       "      <td>f15f6a61-bca6-4d3e-8109-c9e96950b433</td>\n",
       "      <td>Anderegg</td>\n",
       "      <td>Peter</td>\n",
       "      <td>None</td>\n",
       "      <td>EVP</td>\n",
       "      <td>None</td>\n",
       "      <td>0</td>\n",
       "    </tr>\n",
       "    <tr>\n",
       "      <th>2</th>\n",
       "      <td>ee8204f4-9290-49ca-99ae-d18a22a0a513</td>\n",
       "      <td>Angst</td>\n",
       "      <td>Walter</td>\n",
       "      <td>None</td>\n",
       "      <td>AL</td>\n",
       "      <td>3</td>\n",
       "      <td>101</td>\n",
       "    </tr>\n",
       "    <tr>\n",
       "      <th>3</th>\n",
       "      <td>04e3e929-da92-434e-9f6c-ab7cd0a1a3e7</td>\n",
       "      <td>Anken</td>\n",
       "      <td>Walter</td>\n",
       "      <td>None</td>\n",
       "      <td>SVP</td>\n",
       "      <td>6</td>\n",
       "      <td>103</td>\n",
       "    </tr>\n",
       "    <tr>\n",
       "      <th>4</th>\n",
       "      <td>a313c51d-742e-45d4-ac36-3cab6f118ae5</td>\n",
       "      <td>Aubert</td>\n",
       "      <td>Marianne</td>\n",
       "      <td>None</td>\n",
       "      <td>SP</td>\n",
       "      <td>7 und 8</td>\n",
       "      <td>104</td>\n",
       "    </tr>\n",
       "  </tbody>\n",
       "</table>\n",
       "</div>"
      ],
      "text/plain": [
       "                                     Id      Name   Vorname Titel Partei  \\\n",
       "0  afb2e0bc-b941-4fa4-8936-9b4978fc1ee1     Akyol      Ezgi  None     AL   \n",
       "1  f15f6a61-bca6-4d3e-8109-c9e96950b433  Anderegg     Peter  None    EVP   \n",
       "2  ee8204f4-9290-49ca-99ae-d18a22a0a513     Angst    Walter  None     AL   \n",
       "3  04e3e929-da92-434e-9f6c-ab7cd0a1a3e7     Anken    Walter  None    SVP   \n",
       "4  a313c51d-742e-45d4-ac36-3cab6f118ae5    Aubert  Marianne  None     SP   \n",
       "\n",
       "  Wahlkreis  WahlkreisOrderBy  \n",
       "0   4 und 5               102  \n",
       "1      None                 0  \n",
       "2         3               101  \n",
       "3         6               103  \n",
       "4   7 und 8               104  "
      ]
     },
     "execution_count": 3,
     "metadata": {},
     "output_type": "execute_result"
    }
   ],
   "source": [
    "df = pd.DataFrame(data, columns=data[0].keys())\n",
    "df.head()\n"
   ]
  },
  {
   "cell_type": "code",
   "execution_count": 61,
   "metadata": {},
   "outputs": [],
   "source": []
  },
  {
   "cell_type": "code",
   "execution_count": 143,
   "metadata": {},
   "outputs": [],
   "source": [
    "consumer_key = 'FCk07yPAU0nJbaXoMQ2Xpc5Yo'\n",
    "consumer_secret = 'hsvGTOO7KgslhzPc4eLPxww73PgYfIjadyUnzdKdPFB2jzDUbB'\n",
    "access_token = '114164461-73uMf8ADONoCgRX742VAF4RJCMDJ23hjRu9Fa1MN'\n",
    "access_token_secret = 'W9n3GWHkC2ef3NyeYBstiOPASfrXALg4aTCJF1jLBbY6N'\n",
    "\n",
    "import tweepy\n",
    "from tweepy import OAuthHandler\n",
    "import requests\n"
   ]
  },
  {
   "cell_type": "code",
   "execution_count": 144,
   "metadata": {},
   "outputs": [],
   "source": [
    "auth = tweepy.OAuthHandler(consumer_key, consumer_secret,'https://api.twitter.com/oauth/authorize')\n",
    "try:\n",
    "    redirect_url = auth.get_authorization_url()\n",
    "except tweepy.TweepError:\n",
    "    print('Error! Failed to get request token.')\n"
   ]
  },
  {
   "cell_type": "code",
   "execution_count": 145,
   "metadata": {},
   "outputs": [],
   "source": [
    "auth.access_token\n",
    "auth.access_token_secret\n"
   ]
  },
  {
   "cell_type": "code",
   "execution_count": 146,
   "metadata": {},
   "outputs": [],
   "source": [
    "auth = tweepy.OAuthHandler(consumer_key, consumer_secret)\n",
    "auth.set_access_token(access_token, access_token_secret)"
   ]
  },
  {
   "cell_type": "code",
   "execution_count": 147,
   "metadata": {},
   "outputs": [],
   "source": [
    "api = tweepy.API(auth)\n",
    "#api.update_status('tweepy + oauth!')"
   ]
  },
  {
   "cell_type": "code",
   "execution_count": 149,
   "metadata": {},
   "outputs": [],
   "source": [
    "class MyStreamListener(tweepy.StreamListener):\n",
    "\n",
    "    def on_status(self, status):\n",
    "        print(status.text)"
   ]
  },
  {
   "cell_type": "code",
   "execution_count": null,
   "metadata": {},
   "outputs": [
    {
     "name": "stdout",
     "output_type": "stream",
     "text": [
      "@zac1967 @MailOnline EU Narr #Juncker https://t.co/mDELkRv8qv\n"
     ]
    }
   ],
   "source": [
    "myStreamListener = MyStreamListener()\n",
    "myStream = tweepy.Stream(auth = api.auth, listener=myStreamListener,tweet_mode='extended')\n",
    "myStream.filter(follow=['121068845'])"
   ]
  },
  {
   "cell_type": "code",
   "execution_count": null,
   "metadata": {},
   "outputs": [],
   "source": []
  },
  {
   "cell_type": "code",
   "execution_count": null,
   "metadata": {},
   "outputs": [],
   "source": []
  },
  {
   "cell_type": "code",
   "execution_count": null,
   "metadata": {},
   "outputs": [],
   "source": []
  },
  {
   "cell_type": "code",
   "execution_count": null,
   "metadata": {},
   "outputs": [],
   "source": []
  },
  {
   "cell_type": "code",
   "execution_count": null,
   "metadata": {},
   "outputs": [],
   "source": []
  },
  {
   "cell_type": "code",
   "execution_count": null,
   "metadata": {},
   "outputs": [],
   "source": []
  }
 ],
 "metadata": {
  "kernelspec": {
   "display_name": "Python 3",
   "language": "python",
   "name": "python3"
  },
  "language_info": {
   "codemirror_mode": {
    "name": "ipython",
    "version": 3
   },
   "file_extension": ".py",
   "mimetype": "text/x-python",
   "name": "python",
   "nbconvert_exporter": "python",
   "pygments_lexer": "ipython3",
   "version": "3.6.5"
  }
 },
 "nbformat": 4,
 "nbformat_minor": 2
}
